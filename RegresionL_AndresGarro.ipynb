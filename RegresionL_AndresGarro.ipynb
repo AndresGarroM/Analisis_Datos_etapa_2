{
 "cells": [
  {
   "cell_type": "code",
   "execution_count": 5,
   "id": "f3b60c95-4a0f-4d19-8971-853718c62e5f",
   "metadata": {
    "tags": []
   },
   "outputs": [],
   "source": [
    "import numpy as np # linear algebra\n",
    "import pandas as pd # data processing, CSV file I/O (e.g. pd.read_csv)\n",
    "\n",
    "from sklearn import datasets, linear_model\n",
    "import matplotlib.pyplot as plt\n",
    "import seaborn as sns"
   ]
  },
  {
   "cell_type": "code",
   "execution_count": 7,
   "id": "16fc4052-9200-4180-934e-60ec7ca726e3",
   "metadata": {},
   "outputs": [],
   "source": [
    "data = pd.read_csv(\"C:/Users/pipeg/Desktop/U/S6/Analisis de Datos/Etapa 2/data.csv\", sep = \",\")"
   ]
  },
  {
   "cell_type": "code",
   "execution_count": 8,
   "id": "5a030491-4d1e-4c29-be01-35df6501b6bf",
   "metadata": {},
   "outputs": [
    {
     "data": {
      "text/html": [
       "<div>\n",
       "<style scoped>\n",
       "    .dataframe tbody tr th:only-of-type {\n",
       "        vertical-align: middle;\n",
       "    }\n",
       "\n",
       "    .dataframe tbody tr th {\n",
       "        vertical-align: top;\n",
       "    }\n",
       "\n",
       "    .dataframe thead th {\n",
       "        text-align: right;\n",
       "    }\n",
       "</style>\n",
       "<table border=\"1\" class=\"dataframe\">\n",
       "  <thead>\n",
       "    <tr style=\"text-align: right;\">\n",
       "      <th></th>\n",
       "      <th>metro</th>\n",
       "      <th>precio</th>\n",
       "    </tr>\n",
       "  </thead>\n",
       "  <tbody>\n",
       "    <tr>\n",
       "      <th>0</th>\n",
       "      <td>5</td>\n",
       "      <td>375</td>\n",
       "    </tr>\n",
       "    <tr>\n",
       "      <th>1</th>\n",
       "      <td>15</td>\n",
       "      <td>487</td>\n",
       "    </tr>\n",
       "    <tr>\n",
       "      <th>2</th>\n",
       "      <td>20</td>\n",
       "      <td>450</td>\n",
       "    </tr>\n",
       "    <tr>\n",
       "      <th>3</th>\n",
       "      <td>25</td>\n",
       "      <td>500</td>\n",
       "    </tr>\n",
       "  </tbody>\n",
       "</table>\n",
       "</div>"
      ],
      "text/plain": [
       "   metro  precio\n",
       "0      5     375\n",
       "1     15     487\n",
       "2     20     450\n",
       "3     25     500"
      ]
     },
     "execution_count": 8,
     "metadata": {},
     "output_type": "execute_result"
    }
   ],
   "source": [
    "data"
   ]
  },
  {
   "cell_type": "code",
   "execution_count": 9,
   "id": "0692b811-a403-46c4-9caf-5b6e7b169a7b",
   "metadata": {
    "tags": []
   },
   "outputs": [
    {
     "data": {
      "text/plain": [
       "<function matplotlib.pyplot.show(close=None, block=None)>"
      ]
     },
     "execution_count": 9,
     "metadata": {},
     "output_type": "execute_result"
    },
    {
     "data": {
      "image/png": "[encoded data removed]",
      "text/plain": [
       "<Figure size 640x480 with 1 Axes>"
      ]
     },
     "metadata": {},
     "output_type": "display_data"
    }
   ],
   "source": [
    "data.plot.scatter(x=\"metro\", y=\"precio\")\n",
    "plt.show"
   ]
  },
  {
   "cell_type": "code",
   "execution_count": 11,
   "id": "91a3476b-997e-4c28-9473-be7941ea7c91",
   "metadata": {
    "tags": []
   },
   "outputs": [],
   "source": [
    "regresion = linear_model.LinearRegression()"
   ]
  },
  {
   "cell_type": "code",
   "execution_count": 12,
   "id": "4e099770-1c7c-44d7-afd0-6e1f34162100",
   "metadata": {
    "tags": []
   },
   "outputs": [],
   "source": [
    "metro =data[\"metro\"].values.reshape((-1,1))"
   ]
  },
  {
   "cell_type": "code",
   "execution_count": 13,
   "id": "8bd6a79f-e2b5-46e5-b254-119459313797",
   "metadata": {
    "tags": []
   },
   "outputs": [],
   "source": [
    "modelo = regresion.fit(metro, data[\"precio\"])"
   ]
  },
  {
   "cell_type": "code",
   "execution_count": 14,
   "id": "ca351ecc-97c7-430e-bb8e-6466b12cf9fe",
   "metadata": {
    "tags": []
   },
   "outputs": [
    {
     "name": "stdout",
     "output_type": "stream",
     "text": [
      "Interseccion (b) 361.25714285714287\n"
     ]
    }
   ],
   "source": [
    "print(\"Interseccion (b)\", modelo.intercept_)"
   ]
  },
  {
   "cell_type": "code",
   "execution_count": 15,
   "id": "27e7756d-6094-4039-9bf1-6f96f9760153",
   "metadata": {
    "tags": []
   },
   "outputs": [
    {
     "name": "stdout",
     "output_type": "stream",
     "text": [
      "Pendiente (m) [5.64571429]\n"
     ]
    }
   ],
   "source": [
    "print (\"Pendiente (m)\", modelo.coef_)"
   ]
  },
  {
   "cell_type": "code",
   "execution_count": 22,
   "id": "673dc9cd-0812-4099-ae0e-efc776613970",
   "metadata": {
    "tags": []
   },
   "outputs": [],
   "source": [
    "entrada = [[6.5],[8],[9.5],[11],[12.5],[14],[15.5],[17],[18.5],[20],[21.5],[23]]\n",
    "predicciones = modelo.predict(entrada)"
   ]
  },
  {
   "cell_type": "code",
   "execution_count": 23,
   "id": "7dea082b-9c38-4210-ba5d-760388ccd294",
   "metadata": {
    "tags": []
   },
   "outputs": [
    {
     "name": "stdout",
     "output_type": "stream",
     "text": [
      "[397.95428571 406.42285714 414.89142857 423.36       431.82857143\n",
      " 440.29714286 448.76571429 457.23428571 465.70285714 474.17142857\n",
      " 482.64       491.10857143]\n"
     ]
    }
   ],
   "source": [
    "print(predicciones)"
   ]
  },
  {
   "cell_type": "code",
   "execution_count": 25,
   "id": "8eccbd98-ccf9-4367-b727-4601cfd1f5fb",
   "metadata": {
    "tags": []
   },
   "outputs": [
    {
     "data": {
      "image/png": "[encoded data removed]",
      "text/plain": [
       "<Figure size 640x480 with 1 Axes>"
      ]
     },
     "metadata": {},
     "output_type": "display_data"
    }
   ],
   "source": [
    "data.plot.scatter(x=\"metro\", y=\"precio\", label =\"Datos originales\")\n",
    "plt.scatter(entrada, predicciones, color =\"violet\")\n",
    "plt.plot(entrada,predicciones, color=\"black\", label =\"linea de regresion\")\n",
    "plt.xlabel(\"metro\")\n",
    "plt.ylabel(\"precio\")\n",
    "plt.legend()\n",
    "plt.show()"
   ]
  },
  {
   "cell_type": "code",
   "execution_count": null,
   "id": "da75210a-cec9-4038-8cf6-76d05853d9d1",
   "metadata": {},
   "outputs": [],
   "source": []
  }
 ],
 "metadata": {
  "kernelspec": {
   "display_name": "Python 3 (ipykernel)",
   "language": "python",
   "name": "python3"
  },
  "language_info": {
   "codemirror_mode": {
    "name": "ipython",
    "version": 3
   },
   "file_extension": ".py",
   "mimetype": "text/x-python",
   "name": "python",
   "nbconvert_exporter": "python",
   "pygments_lexer": "ipython3",
   "version": "3.11.4"
  }
 },
 "nbformat": 4,
 "nbformat_minor": 5
}
